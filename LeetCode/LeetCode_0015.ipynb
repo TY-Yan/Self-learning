{
  "nbformat": 4,
  "nbformat_minor": 0,
  "metadata": {
    "colab": {
      "name": "LeetCode_0015.ipynb",
      "provenance": [],
      "authorship_tag": "ABX9TyOFTrRfXq0+LsuMUe+MkXxz",
      "include_colab_link": true
    },
    "kernelspec": {
      "name": "python3",
      "display_name": "Python 3"
    },
    "language_info": {
      "name": "python"
    }
  },
  "cells": [
    {
      "cell_type": "markdown",
      "metadata": {
        "id": "view-in-github",
        "colab_type": "text"
      },
      "source": [
        "<a href=\"https://colab.research.google.com/github/TY-Yan/Self-learning/blob/main/LeetCode/LeetCode_0015.ipynb\" target=\"_parent\"><img src=\"https://colab.research.google.com/assets/colab-badge.svg\" alt=\"Open In Colab\"/></a>"
      ]
    },
    {
      "cell_type": "markdown",
      "metadata": {
        "id": "4vCeGunKKFDX"
      },
      "source": [
        "## 3Sum\n",
        "Given an integer array nums, return all the triplets [nums[i], nums[j], nums[k]] such that i != j, i != k, and j != k, and nums[i] + nums[j] + nums[k] == 0.\n",
        "\n",
        "Notice that the solution set must not contain duplicate triplets."
      ]
    },
    {
      "cell_type": "markdown",
      "metadata": {
        "id": "QLJQKzWLKFR0"
      },
      "source": [
        "## 三數加總\n",
        "\n",
        "設定一個整數陣列nums\n",
        "\n",
        "回傳所有三元組\n",
        "\n",
        "如[ nums[i], nums[j], nums[k] ]\n",
        "\n",
        "三元組不重複使用、且相加總為0"
      ]
    },
    {
      "cell_type": "markdown",
      "metadata": {
        "id": "69EfM_xbx4VQ"
      },
      "source": [
        "## 分析\n",
        "\n",
        "首先設定若陣列nums數量小於3直接回傳空陣列\n",
        "\n",
        "將nums做排序\n",
        "\n",
        "建立空白set\n",
        "\n",
        "建立迴圈列舉nums中的數字,並建立空白dic\n",
        "\n",
        "固定第一個數字為j、第二個數字為k的情況下\n",
        "\n",
        "第三個數字必為-j-k (加總數.互補數為0)\n",
        "\n",
        "故將對應的互補數(-j-k)加入到dic中\n",
        "\n",
        "只要一一檢查即可得到正確組合\n",
        "\n"
      ]
    },
    {
      "cell_type": "markdown",
      "metadata": {
        "id": "jrkfZL93Eqn2"
      },
      "source": [
        "## 自我提醒\n",
        "\n",
        "為避免列出重複數組\n",
        "\n",
        "將符合條件的數組加到空白set中\n",
        "\n",
        "在return階段再轉回list\n"
      ]
    },
    {
      "cell_type": "code",
      "metadata": {
        "id": "yov2cbDeKDZ5"
      },
      "source": [
        "nums = [-1,0,1,2,-1,-4]\n",
        "\n",
        "def threeSum(nums):\n",
        "  if len(nums) < 3:\n",
        "    return []\n",
        "  nums.sort()\n",
        "  sets = set()\n",
        "  for i, j in enumerate(nums):\n",
        "    if i >= 1 and j == nums[i-1]:\n",
        "      continue\n",
        "    dic = {}\n",
        "    for k in nums[i+1:]:\n",
        "      if k in dic:\n",
        "        sets.add((j, -j-k ,k))\n",
        "      else:\n",
        "        dic[-j-k] = 0\n",
        "  return list(sets)"
      ],
      "execution_count": 48,
      "outputs": []
    },
    {
      "cell_type": "code",
      "metadata": {
        "colab": {
          "base_uri": "https://localhost:8080/"
        },
        "id": "UMdFhafKFFD6",
        "outputId": "6fada674-870f-45a9-ec67-369744150ea7"
      },
      "source": [
        "# Example 1:\n",
        "\n",
        "# Input: nums = [-1,0,1,2,-1,-4]\n",
        "# Output: [[-1,-1,2],[-1,0,1]]\n",
        "\n",
        "nums = [-1,0,1,2,-1,-4]\n",
        "ans = threeSum(nums)\n",
        "print(ans)"
      ],
      "execution_count": 49,
      "outputs": [
        {
          "output_type": "stream",
          "text": [
            "[(-1, -1, 2), (-1, 0, 1)]\n"
          ],
          "name": "stdout"
        }
      ]
    }
  ]
}