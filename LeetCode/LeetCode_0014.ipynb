{
  "nbformat": 4,
  "nbformat_minor": 0,
  "metadata": {
    "colab": {
      "name": "LeetCode_0014.ipynb",
      "provenance": [],
      "authorship_tag": "ABX9TyOQ0n5mVmbZffIlQca2iGWe",
      "include_colab_link": true
    },
    "kernelspec": {
      "name": "python3",
      "display_name": "Python 3"
    },
    "language_info": {
      "name": "python"
    }
  },
  "cells": [
    {
      "cell_type": "markdown",
      "metadata": {
        "id": "view-in-github",
        "colab_type": "text"
      },
      "source": [
        "<a href=\"https://colab.research.google.com/github/TY-Yan/Self-learning/blob/main/LeetCode/LeetCode_0014.ipynb\" target=\"_parent\"><img src=\"https://colab.research.google.com/assets/colab-badge.svg\" alt=\"Open In Colab\"/></a>"
      ]
    },
    {
      "cell_type": "markdown",
      "metadata": {
        "id": "MgJPZqmx1x41"
      },
      "source": [
        "## Longest Common Prefix\n",
        "Write a function to find the longest common prefix string amongst an array of strings.\n",
        "\n",
        "If there is no common prefix, return an empty string \"\"."
      ]
    },
    {
      "cell_type": "markdown",
      "metadata": {
        "id": "neVlxxLq1_O7"
      },
      "source": [
        "## 最長公共前綴\n",
        "編寫一個函數來找尋字串陣列中的最長公共前綴\n",
        "\n",
        "如果沒有公共前綴，回傳空字串\" \""
      ]
    },
    {
      "cell_type": "markdown",
      "metadata": {
        "id": "UwKG5WFpEZnq"
      },
      "source": [
        "## 分析\n",
        "先設置若無公共前綴回傳空字串\n",
        "\n",
        "公共前綴只有首字時回傳第一個字符\n",
        "\n",
        "建立空字串p\n",
        "\n",
        "將字串陣列用sort()做排序\n",
        "\n",
        "取其中最小值和最大值做比較\n",
        "\n",
        "若相同則將該字符加入字串p中\n",
        "\n",
        "若不同則中斷並回傳答案"
      ]
    },
    {
      "cell_type": "markdown",
      "metadata": {
        "id": "usjD-uTcJEmV"
      },
      "source": [
        "## 自我提醒\n",
        "\n",
        "使用zip()將兩筆資料連結起來做for迴圈比較"
      ]
    },
    {
      "cell_type": "code",
      "metadata": {
        "id": "M2JRF-2_1f6a"
      },
      "source": [
        "def longestCommonPrefix(strs): #(self, strs: List[str]) -> str:\n",
        "    if not strs: return \"\"\n",
        "    if len(strs) == 1: return strs[0]\n",
        "    \n",
        "    strs.sort()\n",
        "    p = \"\"\n",
        "    for x, y in zip(strs[0], strs[-1]):\n",
        "      if x == y: p+=x\n",
        "      else: break\n",
        "    return p"
      ],
      "execution_count": 34,
      "outputs": []
    },
    {
      "cell_type": "code",
      "metadata": {
        "colab": {
          "base_uri": "https://localhost:8080/"
        },
        "id": "ZGnTUz2L3Csh",
        "outputId": "067a7eee-ed08-4faf-e473-826c4fe4eaf6"
      },
      "source": [
        "# Example 1:\n",
        "# Input: strs = [\"flower\",\"flow\",\"flight\"]\n",
        "# Output: \"fl\"\n",
        "\n",
        "strs = [\"flower\",\"flow\",\"flight\"]\n",
        "\n",
        "ans = longestCommonPrefix(strs)\n",
        "print(ans)"
      ],
      "execution_count": 35,
      "outputs": [
        {
          "output_type": "stream",
          "text": [
            "f f\n",
            "l l\n",
            "i o\n",
            "fl\n"
          ],
          "name": "stdout"
        }
      ]
    }
  ]
}