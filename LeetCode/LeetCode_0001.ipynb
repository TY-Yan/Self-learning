{
  "nbformat": 4,
  "nbformat_minor": 0,
  "metadata": {
    "colab": {
      "name": "LeetCode_0001.ipynb",
      "provenance": [],
      "authorship_tag": "ABX9TyPiAAvfP1NtRRPe2mqgSo0K",
      "include_colab_link": true
    },
    "kernelspec": {
      "name": "python3",
      "display_name": "Python 3"
    },
    "language_info": {
      "name": "python"
    }
  },
  "cells": [
    {
      "cell_type": "markdown",
      "metadata": {
        "id": "view-in-github",
        "colab_type": "text"
      },
      "source": [
        "<a href=\"https://colab.research.google.com/github/TY-Yan/Self-learning/blob/main/LeetCode/LeetCode_0001.ipynb\" target=\"_parent\"><img src=\"https://colab.research.google.com/assets/colab-badge.svg\" alt=\"Open In Colab\"/></a>"
      ]
    },
    {
      "cell_type": "markdown",
      "metadata": {
        "id": "goFH45JKBiWP"
      },
      "source": [
        "## Two Sum\n",
        "\n",
        "Given an array of integers nums and an integer target, return indices of the two numbers such that they add up to target.\n",
        "\n",
        "You may assume that each input would have exactly one solution, and you may not use the same element twice.\n",
        "\n",
        "You can return the answer in any order.\n",
        "\n"
      ]
    },
    {
      "cell_type": "markdown",
      "metadata": {
        "id": "BOcVBLYHVPUR"
      },
      "source": [
        "## 兩數相加\n",
        "\n",
        "設定一個整數陣列為nums、一個整數target，回傳兩個數字的索引，使其總和為target\n",
        "\n",
        "可限制為只有單一解、不會使用兩個重複數字\n",
        "\n",
        "回傳答案的順序不拘"
      ]
    },
    {
      "cell_type": "code",
      "metadata": {
        "id": "wJJ2ghATBFFN"
      },
      "source": [
        "def twoSum(nums, target): # nums:List[int], target:int) -> List[int]\n",
        "  h = {}\n",
        "  for i, j in enumerate(nums):\n",
        "    if target - j in h:\n",
        "      return [h[target - j], i]\n",
        "      break\n",
        "    else:\n",
        "      h[j] = i"
      ],
      "execution_count": 13,
      "outputs": []
    },
    {
      "cell_type": "code",
      "metadata": {
        "colab": {
          "base_uri": "https://localhost:8080/"
        },
        "id": "qId5nZecXkgY",
        "outputId": "4e2a2f8c-2c3c-4557-f043-20523ee98b84"
      },
      "source": [
        "# Example 1\n",
        "# Input: nums = [2,7,11,15], target = 9\n",
        "# Output: [0,1]\n",
        "\n",
        "nums = [2, 7, 11, 15]\n",
        "target = 9\n",
        "\n",
        "ans = twoSum(nums, target)\n",
        "print(ans)"
      ],
      "execution_count": 14,
      "outputs": [
        {
          "output_type": "stream",
          "text": [
            "[0, 1]\n"
          ],
          "name": "stdout"
        }
      ]
    }
  ]
}