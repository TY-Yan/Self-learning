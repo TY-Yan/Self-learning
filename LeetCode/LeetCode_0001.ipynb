{
  "nbformat": 4,
  "nbformat_minor": 0,
  "metadata": {
    "colab": {
      "name": "LeetCode_0001.ipynb",
      "provenance": [],
      "collapsed_sections": [],
      "authorship_tag": "ABX9TyPCNR3IS4qpPMIBRRfDUDOk",
      "include_colab_link": true
    },
    "kernelspec": {
      "name": "python3",
      "display_name": "Python 3"
    },
    "language_info": {
      "name": "python"
    }
  },
  "cells": [
    {
      "cell_type": "markdown",
      "metadata": {
        "id": "view-in-github",
        "colab_type": "text"
      },
      "source": [
        "<a href=\"https://colab.research.google.com/github/TY-Yan/Self-learning/blob/main/LeetCode/LeetCode_0001.ipynb\" target=\"_parent\"><img src=\"https://colab.research.google.com/assets/colab-badge.svg\" alt=\"Open In Colab\"/></a>"
      ]
    },
    {
      "cell_type": "markdown",
      "metadata": {
        "id": "goFH45JKBiWP"
      },
      "source": [
        "## Two Sum\n",
        "\n",
        "Given an array of integers nums and an integer target, return indices of the two numbers such that they add up to target.\n",
        "\n",
        "You may assume that each input would have exactly one solution, and you may not use the same element twice.\n",
        "\n",
        "You can return the answer in any order.\n",
        "\n"
      ]
    },
    {
      "cell_type": "markdown",
      "metadata": {
        "id": "BOcVBLYHVPUR"
      },
      "source": [
        "## 兩數相加\n",
        "\n",
        "設定一個整數陣列為nums、一個整數target，回傳兩個數字的索引，使其總和為target\n",
        "\n",
        "可限制為只有單一解、不會使用兩個重複數字\n",
        "\n",
        "回傳答案的順序不拘"
      ]
    },
    {
      "cell_type": "markdown",
      "metadata": {
        "id": "OwHl47UU5Mmm"
      },
      "source": [
        "## 分析\n",
        "建立一個空字典dic\n",
        "\n",
        "在nums中依序舉出i、num\n",
        "\n",
        "設判斷式 target - num 是否在字典dic中\n",
        "\n",
        "無→將num加入字典dic的索引i中\n",
        "\n",
        "有→回傳兩個數的索引值"
      ]
    },
    {
      "cell_type": "markdown",
      "metadata": {
        "id": "aRocy0q_JuhX"
      },
      "source": [
        "## 自我提醒\n",
        "\n",
        "暴力解為設置兩個迴圈重複相加，耗時過長"
      ]
    },
    {
      "cell_type": "code",
      "metadata": {
        "id": "wJJ2ghATBFFN"
      },
      "source": [
        "def twoSum(nums, target): # nums:List[int], target:int) -> List[int]\n",
        "  dic = {}\n",
        "  for i, num in enumerate(nums):\n",
        "    if target - num in dic:\n",
        "      return [dic[target - num], i]\n",
        "      break\n",
        "    else:\n",
        "      dic[num] = i"
      ],
      "execution_count": null,
      "outputs": []
    },
    {
      "cell_type": "code",
      "metadata": {
        "colab": {
          "base_uri": "https://localhost:8080/"
        },
        "id": "qId5nZecXkgY",
        "outputId": "83cf4029-779c-4db2-dfd0-6149254f702b"
      },
      "source": [
        "# Example 1\n",
        "# Input: nums = [2,7,11,15], target = 9\n",
        "# Output: [0,1]\n",
        "\n",
        "nums = [2, 7, 11, 15]\n",
        "target = 9\n",
        "\n",
        "ans = twoSum(nums, target)\n",
        "print(ans)"
      ],
      "execution_count": null,
      "outputs": [
        {
          "output_type": "stream",
          "text": [
            "[0, 1]\n"
          ],
          "name": "stdout"
        }
      ]
    }
  ]
}