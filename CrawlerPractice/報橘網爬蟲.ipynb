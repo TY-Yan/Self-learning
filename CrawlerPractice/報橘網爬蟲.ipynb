{
  "nbformat": 4,
  "nbformat_minor": 0,
  "metadata": {
    "colab": {
      "name": "報橘網爬蟲.ipynb",
      "provenance": [],
      "authorship_tag": "ABX9TyMqaAgaOz94A6t7fGsM5iYO",
      "include_colab_link": true
    },
    "kernelspec": {
      "name": "python3",
      "display_name": "Python 3"
    },
    "language_info": {
      "name": "python"
    }
  },
  "cells": [
    {
      "cell_type": "markdown",
      "metadata": {
        "id": "view-in-github",
        "colab_type": "text"
      },
      "source": [
        "<a href=\"https://colab.research.google.com/github/TY-Yan/Self-learning/blob/main/CrawlerPractice/%E5%A0%B1%E6%A9%98%E7%B6%B2%E7%88%AC%E8%9F%B2.ipynb\" target=\"_parent\"><img src=\"https://colab.research.google.com/assets/colab-badge.svg\" alt=\"Open In Colab\"/></a>"
      ]
    },
    {
      "cell_type": "markdown",
      "metadata": {
        "id": "vUPUs_E6oCZe"
      },
      "source": [
        "##目標網站：https://buzzorange.com/\n",
        "\n",
        "1.爬取報橘網資料(前20頁)\n",
        "\n",
        "2.需用requests中的post提出頁數請求\n",
        "\n",
        "3.報橘網每日更改識別碼，須從F12 > Network > Form Data > nonce中確認\n",
        "\n",
        "4.本練習為2021/7/29"
      ]
    },
    {
      "cell_type": "code",
      "metadata": {
        "id": "dkeqLXN7ovCT"
      },
      "source": [
        "import requests\n",
        "import json\n",
        "from bs4 import BeautifulSoup"
      ],
      "execution_count": null,
      "outputs": []
    },
    {
      "cell_type": "code",
      "metadata": {
        "id": "DwPf77qPnBRc"
      },
      "source": [
        "#建立txt檔命名為buzz.txt\n",
        "f = open('buzz.txt', 'w', encoding='utf-8')\n",
        "\n",
        "#Form Data中的編號\n",
        "NONCE = 'c17f77fd37'\n",
        "\n",
        "#設立迴圈抓20頁資料,顯示頁數(含第一頁)\n",
        "for i in range(20):\n",
        "    print('page:', i+1)\n",
        "\n",
        "    #報橘網在Request URL中的網址\n",
        "    url = 'https://buzzorange.com/wp-admin/admin-ajax.php'\n",
        "\n",
        "    #報橘網在Form Data裡的資料\n",
        "    datas = {\n",
        "        'action': 'fm_ajax_load_more',\n",
        "        'nonce': NONCE,\n",
        "        'page': str(i+1)\n",
        "    }\n",
        "\n",
        "    #用post函數,以datas呼叫url,得出response\n",
        "    response = requests.post(url, datas)\n",
        "\n",
        "    #以json開啟text模式的response,並拿出'data'的的資料\n",
        "    posts = json.loads(response.text)['data']\n",
        "\n",
        "    #用美湯解析posts\n",
        "    html = BeautifulSoup(posts)\n",
        "\n",
        "    #連結沒有id,所以往上找一層h4\n",
        "    titles = html.find_all('h4', class_='entry-title')\n",
        "\n",
        "    #迴圈尋找a標籤中的內容字.連結\n",
        "    for title in titles:\n",
        "        link = title.find('a')\n",
        "        print(link.text)\n",
        "        print(link['href'])\n",
        "        print('-' * 30)\n",
        "        #將內容寫入檔案.插入空行做分隔\n",
        "        f.write(link.text)\n",
        "        f.write('\\n')\n",
        "f.close()"
      ],
      "execution_count": null,
      "outputs": []
    }
  ]
}