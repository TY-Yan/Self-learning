{
  "nbformat": 4,
  "nbformat_minor": 0,
  "metadata": {
    "colab": {
      "name": "ShutterStock圖庫爬蟲.ipynb",
      "provenance": [],
      "mount_file_id": "1rnfintKWaloi6QkBaKPwBZpKo5MgWoQ7",
      "authorship_tag": "ABX9TyP1fwULG7ZlU2xzVxrRKAvj",
      "include_colab_link": true
    },
    "kernelspec": {
      "name": "python3",
      "display_name": "Python 3"
    },
    "language_info": {
      "name": "python"
    }
  },
  "cells": [
    {
      "cell_type": "markdown",
      "metadata": {
        "id": "view-in-github",
        "colab_type": "text"
      },
      "source": [
        "<a href=\"https://colab.research.google.com/github/TY-Yan/Self-learning/blob/main/CrawlerPractice/ShutterStock%E5%9C%96%E5%BA%AB%E7%88%AC%E8%9F%B2.ipynb\" target=\"_parent\"><img src=\"https://colab.research.google.com/assets/colab-badge.svg\" alt=\"Open In Colab\"/></a>"
      ]
    },
    {
      "cell_type": "markdown",
      "metadata": {
        "id": "4ZsWnx52C9tV"
      },
      "source": [
        "# 目標網站 -> ShutterStock\n",
        "#https://www.shutterstock.com/zh-Hant/"
      ]
    },
    {
      "cell_type": "code",
      "metadata": {
        "id": "ccqjv1rUGgpJ"
      },
      "source": [
        "from urllib.request import urlopen, urlretrieve\n",
        "import urllib.request as req\n",
        "from bs4 import BeautifulSoup\n",
        "import requests\n",
        "import time\n",
        "import os\n",
        "import json"
      ],
      "execution_count": null,
      "outputs": []
    },
    {
      "cell_type": "code",
      "metadata": {
        "id": "b2WoWq3V0YpQ"
      },
      "source": [
        "def shutterstock(target, page):\n",
        "  file_name = target.replace('+','_')\n",
        "  base = \"./drive/MyDrive/shutterstock_\" + file_name\n",
        "  # 此處預設為在colab建立檔名為shutterstock+關鍵字的資料夾並儲存圖片，可自行更改\n",
        "  # base = \"./shutterstock_\" + file_name\n",
        "  if not os.path.exists(base):\n",
        "    os.makedirs(base)\n",
        "  for p in range(1, int(page)+1):\n",
        "    url = 'https://www.shutterstock.com/zh-Hant/search/' + target + '?image_type=photo&mreleased=true&gender=female&number_of_people=1&page=' + str(p)\n",
        "    response = urlopen(url)\n",
        "    html = BeautifulSoup(response)\n",
        "    div = html.find_all('img', class_=\"z_h_9d80b z_h_2f2f0\")\n",
        "    for i in range(20):\n",
        "      urlretrieve(div[i]['src'], base + '/' + str((p-1)*20+i) +'.jpg')\n",
        "      # time.sleep(1)\n",
        "  return 'File Get !!'"
      ],
      "execution_count": null,
      "outputs": []
    },
    {
      "cell_type": "code",
      "metadata": {
        "id": "w53YNnVtPVXr"
      },
      "source": [
        "\n",
        "def Shutter_Stock(target, page):\n",
        "  target = target.replace('+', '%20')\n",
        "  file_name = target.replace('%20', '_')\n",
        "  base = \"./drive/MyDrive/ShutterStock_\" + file_name\n",
        "  # 此處預設為在colab建立檔名為unsplash+關鍵字的資料夾並儲存圖片，可自行更改\n",
        "  # base = \"./unsplash_\" + file_name\n",
        "  if not os.path.exists(base):\n",
        "    os.makedirs(base)\n",
        "  for p in range(1,int(page)+1):\n",
        "    url = 'https://www.shutterstock.com/studioapi/images/search?q='+ target +'&language=zh-Hant&country=TW&page%5Bsize%5D=100&page%5Bnumber%5D='+ str(p) +'&recordActivity=true&activity_type=footage_search&include=contributor-limited-meta&allow_inject=true&fields%5Bimages%5D=displays&fields%5Bimages%5D=alt&fields%5Bimages%5D=aspect&fields%5Bimages%5D=title&fields%5Bimages%5D=link&fields%5Bimages%5D=image_type&fields%5Bimages%5D=is_editorial&fields%5Bimages%5D=has_model_release&fields%5Bimages%5D=has_property_release&filter%5Bpeople_gender%5D=female&filter%5Bimage_type%5D=photo&filter%5Bpeople_number%5D=1&filter%5Bis_model_released%5D=true&queryTranslations=true'\n",
        "    response = requests.get(url)\n",
        "    html = json.loads(response.text)\n",
        "    for i in range(20):\n",
        "      id = html['results'][i]['id']\n",
        "      link = 'https://unsplash.com/photos/'+id+'/download'\n",
        "      urlretrieve(link, base + '/' + str((p-1)*20+i) +'.jpg')\n",
        "      # time.sleep(1)\n",
        "  return 'File Get !!'"
      ],
      "execution_count": null,
      "outputs": []
    },
    {
      "cell_type": "code",
      "metadata": {
        "id": "ctESGsonQdBc"
      },
      "source": [
        "url = 'https://www.shutterstock.com/studioapi/images/search?q=neutral%20female&language=zh-Hant&country=TW&page%5Bsize%5D=100&page%5Bnumber%5D=1&recordActivity=true&activity_type=footage_search&include=contributor-limited-meta&allow_inject=true&fields%5Bimages%5D=displays&fields%5Bimages%5D=alt&fields%5Bimages%5D=aspect&fields%5Bimages%5D=title&fields%5Bimages%5D=link&fields%5Bimages%5D=image_type&fields%5Bimages%5D=is_editorial&fields%5Bimages%5D=has_model_release&fields%5Bimages%5D=has_property_release&filter%5Bpeople_gender%5D=female&filter%5Bimage_type%5D=photo&filter%5Bpeople_number%5D=1&filter%5Bis_model_released%5D=true&queryTranslations=true'\n",
        "\n",
        "headers= {\"Accept\": \"application/json\",\n",
        "\"Content-Type\": \"application/json\",\n",
        "\"Referer\": \"https://www.shutterstock.com/zh-Hant/search/%E7%94%9F%E6%B0%A3\",\n",
        "\"User-Agent\": \"Mozilla/5.0 (Windows NT 10.0; Win64; x64) AppleWebKit/537.36 (KHTML, like Gecko) Chrome/89.0.4389.128 Safari/537.36\",\n",
        "\"x-end-app-name\": \"studio-web\",\n",
        "\"x-end-app-version\": \"0.1153.11\",\n",
        "\"x-end-user-country\": \"TW\",\n",
        "\"x-end-user-id\": \"NA\",\n",
        "\"x-end-user-ip\":\"140.124.96.238\",\n",
        "\"x-end-user-ua\": \"Mozilla/5.0 (Windows NT 10.0; Win64; x64) AppleWebKit/537.36 (KHTML, like Gecko) Chrome/89.0.4389.128 Safari/537.36\",\n",
        "\"x-end-user-visit-id\": \"70795114125\",\n",
        "\"x-end-user-visitor-id\": \"65051542788\",\n",
        "\"x-request-id\": \"169105b4-7e51-47b0-9e29-a4fe2d388631\",\n",
        "\"x-shutterstock-features\": \"user-traits\",\n",
        "\"x-shutterstock-search-id\": \"null\",\n",
        "\"x-shutterstock-site-section\": \"image-search\"}\n",
        "\n",
        "response = requests.get(url, verify=False, headers=headers)\n",
        "data = json.loads(response.text)\n",
        "data['data'][0]['attributes']['displays']['260nw']['src']\n"
      ],
      "execution_count": null,
      "outputs": []
    },
    {
      "cell_type": "code",
      "metadata": {
        "id": "D4cdFByyaQX7"
      },
      "source": [
        "target = input('輸入要找的關鍵字,可用+號作為關鍵字之間的分隔符號：\\n例如：sad+woman ')\n",
        "page = input('輸入要搜尋幾頁:')\n",
        "shutterstock(target, page)"
      ],
      "execution_count": null,
      "outputs": []
    }
  ]
}