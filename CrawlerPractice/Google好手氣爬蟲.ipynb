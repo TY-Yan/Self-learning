{
  "nbformat": 4,
  "nbformat_minor": 0,
  "metadata": {
    "colab": {
      "name": "Google好手氣爬蟲.ipynb",
      "provenance": [],
      "authorship_tag": "ABX9TyMnEzKYRzhERFXI1uGdus57",
      "include_colab_link": true
    },
    "kernelspec": {
      "name": "python3",
      "display_name": "Python 3"
    },
    "language_info": {
      "name": "python"
    }
  },
  "cells": [
    {
      "cell_type": "markdown",
      "metadata": {
        "id": "view-in-github",
        "colab_type": "text"
      },
      "source": [
        "<a href=\"https://colab.research.google.com/github/TY-Yan/Self-learning/blob/main/CrawlerPractice/Google%E5%A5%BD%E6%89%8B%E6%B0%A3%E7%88%AC%E8%9F%B2.ipynb\" target=\"_parent\"><img src=\"https://colab.research.google.com/assets/colab-badge.svg\" alt=\"Open In Colab\"/></a>"
      ]
    },
    {
      "cell_type": "markdown",
      "metadata": {
        "id": "uaDMN0d1efF2"
      },
      "source": [
        "\n",
        "爬蟲步驟:\n",
        "\n",
        "1. Ctrl+U 檢視原始碼\n",
        "\n",
        "2. F12 > Network 檢視資料網址\n"
      ]
    },
    {
      "cell_type": "code",
      "metadata": {
        "id": "o0ft0B3GeBjP"
      },
      "source": [
        "\n",
        "# os用於建立資料夾\n",
        "import os\n",
        "\n",
        "# json用於資料存取\n",
        "import json\n",
        "\n",
        "# 從request中的urllib引用urlopen(開啟).urlretrieve(下載)\n",
        "from urllib.request import urlopen, urlretrieve"
      ],
      "execution_count": null,
      "outputs": []
    },
    {
      "cell_type": "code",
      "metadata": {
        "id": "Eqr2yg_-ebZt"
      },
      "source": [
        "# 找出2020年1-6月的google好手氣貼圖\n",
        "for i in range(6):\n",
        "    print('月份:', i + 1)\n",
        "    # 設定資料夾名稱為google,底下的子資料夾名稱為變數i(1-6)\n",
        "    BASE = 'google/' + str(i + 1)\n",
        "    # 如果BASE路徑不存在\n",
        "    if not os.path.exists(BASE):\n",
        "        #就創建新路徑\n",
        "        os.makedirs(BASE)\n",
        "\n",
        "    # 定義要搜尋的網址為i月份\n",
        "    url = 'https://www.google.com/doodles/json/2020/' + str(i + 1) +'?hl=zh-TW'\n",
        "    # 開啟網址\n",
        "    response = urlopen(url)\n",
        "    # 讀取網址中的檔案\n",
        "    pics = json.load(response)\n",
        "    for p in pics:\n",
        "        # 迴圈顯示每個字典中的title\n",
        "        print(p['title'])\n",
        "        # 迴圈顯示每個字典中的url,並且手動在前面加上https:\n",
        "        img = 'https:' + p['url']\n",
        "        print(img)\n",
        "        # urlretrieve(網址, 下載檔名)\n",
        "        fn = BASE + '/' + img.split('/')[-1]\n",
        "        urlretrieve(img, fn)\n",
        "    # 在月份資料夾底下建立json檔\n",
        "    fn = BASE + '/' + str(i+1) + '.json'\n",
        "    f = open(fn, 'w', encoding='utf-8')\n",
        "    # dump儲存檔案.ensure_ascii=False將中文的編碼隱藏.indent設定縮排行距\n",
        "    json.dump(pics, f, ensure_ascii=False, indent=4)\n",
        "    f.close()\n"
      ],
      "execution_count": null,
      "outputs": []
    }
  ]
}