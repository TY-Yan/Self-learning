{
  "nbformat": 4,
  "nbformat_minor": 0,
  "metadata": {
    "colab": {
      "name": "Accupass活動通爬蟲.ipynb",
      "provenance": [],
      "collapsed_sections": [],
      "authorship_tag": "ABX9TyO97TssbrqFRhwX6g4DPW1z",
      "include_colab_link": true
    },
    "kernelspec": {
      "name": "python3",
      "display_name": "Python 3"
    }
  },
  "cells": [
    {
      "cell_type": "markdown",
      "metadata": {
        "id": "view-in-github",
        "colab_type": "text"
      },
      "source": [
        "<a href=\"https://colab.research.google.com/github/TY-Yan/Self-learning/blob/main/CrawlerPractice/Accupass%E6%B4%BB%E5%8B%95%E9%80%9A%E7%88%AC%E8%9F%B2.ipynb\" target=\"_parent\"><img src=\"https://colab.research.google.com/assets/colab-badge.svg\" alt=\"Open In Colab\"/></a>"
      ]
    },
    {
      "cell_type": "markdown",
      "metadata": {
        "id": "QEsbl6vAj8S0"
      },
      "source": [
        "活動通ACCUPASS\n",
        "\n",
        "目標網站 https://www.accupass.com/?area=north\n",
        "\n",
        "希望找到「精選活動」中所有活動的相關資訊,包含名稱、時間日期、簡介、標籤、宣傳圖"
      ]
    },
    {
      "cell_type": "code",
      "metadata": {
        "id": "t_33kKuVl55W"
      },
      "source": [
        "import requests\n",
        "import json\n",
        "import pandas as pd"
      ],
      "execution_count": null,
      "outputs": []
    },
    {
      "cell_type": "code",
      "metadata": {
        "id": "cUaaMufUj4D2"
      },
      "source": [
        "def Accupass():\n",
        "  print('1.精選\\n2.學習\\n3.藝術\\n4.體驗')\n",
        "  target = int(input('請以數字1-4輸入要搜尋的活動類型:'))\n",
        "  print('搜尋中，請稍候...')\n",
        "  if target == 1:\n",
        "    target = 'northfeatured'\n",
        "  elif target == 2:\n",
        "    target = 'learning'\n",
        "  elif target == 3:\n",
        "    target = 'art'\n",
        "  elif target == 4:\n",
        "    target = 'experience'\n",
        "  else:\n",
        "    print('輸入錯誤')\n",
        "    \n",
        "  # 從NetWok觀察到真實網址,將檔案loads出完整資料\n",
        "  url = \"https://api.accupass.com/v3/home/north/channel/\" + target\n",
        "  response = requests.get(url)\n",
        "  accupass = json.loads(response.text)\n",
        "\n",
        "  # 建立table字典裝資料\n",
        "  table = {\n",
        "      '活動名稱':[],\n",
        "      '活動日期':[],\n",
        "      '活動地點':[],\n",
        "      '活動簡介':[],\n",
        "      '活動標籤':[]\n",
        "  }\n",
        "\n",
        "  # for迴圈抓取在channel>tagEvents底下的資料,包含名稱.日期.簡介.標籤.圖檔網址\n",
        "  for n in range(len(accupass['channel']['tagEvents'])):\n",
        "    name = accupass['channel']['tagEvents'][n]['name']\n",
        "    date = accupass['channel']['tagEvents'][n]['fullDateTimeStr']\n",
        "    introduction = accupass['channel']['tagEvents'][n]['summary']\n",
        "    tag = accupass['channel']['tagEvents'][n]['tags'][0]['name']\n",
        "\n",
        "  # 將資料放入字典\n",
        "    table['活動名稱'].append(name)\n",
        "    table['活動日期'].append(date)\n",
        "    table['活動簡介'].append(introduction)\n",
        "    table['活動標籤'].append(tag)\n",
        "\n",
        "  '''\n",
        "  嘗試用while迴圈來抓資料,也是成功的\n",
        "  i = 0\n",
        "  while i < len(accupass['channel']['tagEvents']):\n",
        "    print('活動名稱：', accupass['channel']['tagEvents'][i]['name'])\n",
        "    print('\\n活動日期：', accupass['channel']['tagEvents'][i]['fullDateTimeStr'])\n",
        "    print('\\n活動簡介：', accupass['channel']['tagEvents'][i]['summary'])\n",
        "    print('\\ntag：', accupass['channel']['tagEvents'][i]['tags'][0]['name'])\n",
        "    # print(accupass['channel']['tagEvents'][i]['name'])\n",
        "    print('-' * 50)\n",
        "    i += 1\n",
        "  '''\n",
        "\n",
        "  # 由於活動地址並沒有顯示在真實網站中，需到各個活動網站抓地址\n",
        "\n",
        "  # 經觀察發現活動網站由一組enevtIdNumber參數控制\n",
        "  # 迴圈取得參數\n",
        "  for i in range(len(accupass['channel']['tagEvents'])):\n",
        "    eventID = accupass['channel']['tagEvents'][i]['eventIdNumber']\n",
        "    # 參數加到網址後，取得每個活動網站的真實網址\n",
        "    event_url = 'https://api.accupass.com/v3/events/'+str(eventID)\n",
        "    event_response = requests.get(event_url)\n",
        "    event_web = json.loads(event_response.text)\n",
        "    # 找出活動地址並加入table字典\n",
        "    address= event_web['address'] + '||' + event_web['addressRemark']\n",
        "    table['活動地點'].append(address)\n",
        "\n",
        "  # 將table字典寫入DataFrame，轉存成csv檔\n",
        "  df = pd.DataFrame(table)\n",
        "  df.to_csv('Accupass_{}.csv'.format(target), encoding='utf-8', index=False)\n",
        "\n",
        "  # print(df) 確認無誤，結束\n",
        "  return 'File get!'"
      ],
      "execution_count": null,
      "outputs": []
    },
    {
      "cell_type": "code",
      "metadata": {
        "id": "0_q0a5hBzhze",
        "colab": {
          "base_uri": "https://localhost:8080/",
          "height": 136
        },
        "outputId": "92331c42-f2be-4a63-81b1-16cc1879f37e"
      },
      "source": [
        "Accupass()"
      ],
      "execution_count": null,
      "outputs": [
        {
          "output_type": "stream",
          "text": [
            "1.精選\n",
            "2.學習\n",
            "3.藝術\n",
            "4.體驗\n",
            "請以數字1-4輸入要搜尋的活動類型:3\n",
            "搜尋中，請稍候...\n"
          ],
          "name": "stdout"
        },
        {
          "output_type": "execute_result",
          "data": {
            "application/vnd.google.colaboratory.intrinsic+json": {
              "type": "string"
            },
            "text/plain": [
              "'File get!'"
            ]
          },
          "metadata": {
            "tags": []
          },
          "execution_count": 3
        }
      ]
    }
  ]
}