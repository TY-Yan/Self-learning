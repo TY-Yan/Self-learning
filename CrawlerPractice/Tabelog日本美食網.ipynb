{
  "nbformat": 4,
  "nbformat_minor": 0,
  "metadata": {
    "colab": {
      "name": "Tabelog日本美食網.ipynb",
      "provenance": [],
      "authorship_tag": "ABX9TyMPkqRxI5hC/0jBgowBneQ+",
      "include_colab_link": true
    },
    "kernelspec": {
      "name": "python3",
      "display_name": "Python 3"
    },
    "language_info": {
      "name": "python"
    }
  },
  "cells": [
    {
      "cell_type": "markdown",
      "metadata": {
        "id": "view-in-github",
        "colab_type": "text"
      },
      "source": [
        "<a href=\"https://colab.research.google.com/github/TY-Yan/Self-learning/blob/main/CrawlerPractice/Tabelog%E6%97%A5%E6%9C%AC%E7%BE%8E%E9%A3%9F%E7%B6%B2.ipynb\" target=\"_parent\"><img src=\"https://colab.research.google.com/assets/colab-badge.svg\" alt=\"Open In Colab\"/></a>"
      ]
    },
    {
      "cell_type": "markdown",
      "metadata": {
        "id": "dVOU8DMzhQup"
      },
      "source": [
        "##目標網站：https://tabelog.com/tw/tokyo/rstLst/?SrtT=rt\n",
        "\n",
        "抓tabelog資料\n",
        "\n",
        "1.抓日文\n",
        "\n",
        "2.抓評價\n",
        "\n",
        "3.抓晚間價格\n",
        "\n",
        "4.抓午間價格\n",
        "\n",
        "5.存成csv檔"
      ]
    },
    {
      "cell_type": "code",
      "metadata": {
        "id": "VudKnaZjhG_w"
      },
      "source": [
        "from urllib.request import urlopen\n",
        "from urllib.error import HTTPError\n",
        "from bs4 import BeautifulSoup\n",
        "import pandas as pd"
      ],
      "execution_count": null,
      "outputs": []
    },
    {
      "cell_type": "code",
      "metadata": {
        "id": "MCU55-YVhiAM"
      },
      "source": [
        "# Step1. 建立空字典,用來裝資料\n",
        "table = {\n",
        "    'rating':[],\n",
        "    'ja':[],\n",
        "    'en':[]\n",
        "}\n",
        "\n",
        "page = 60\n",
        "while True:\n",
        "    print('頁數', page)\n",
        "    url = 'https://tabelog.com/tw/tokyo/rstLst/' + str(page) + '/?SrtT=rt'\n",
        "    page += 1\n",
        "    try:\n",
        "        response = urlopen(url)\n",
        "    except HTTPError as e:\n",
        "        if e.code == 400:\n",
        "            print('最末頁')\n",
        "        else:\n",
        "            print('其他錯誤')\n",
        "        #Step3. 建立資料框,以csv型態做存檔,括號內為檔名.編碼.序號列\n",
        "        df = pd.DataFrame(table)\n",
        "        df.to_csv('tabelog.csv', encoding = 'utf-8', index = False)\n",
        "        break\n",
        "    html = BeautifulSoup(response)\n",
        "\n",
        "    rs = html.find_all('li', class_='list-rst')\n",
        "    for r in rs:\n",
        "        en = r.find('a', class_ = 'list-rst__name-main')\n",
        "        print(en.text)\n",
        "\n",
        "        ja = r.find('small', class_ = 'list-rst__name-ja')\n",
        "        print(ja.text)\n",
        "\n",
        "        #爬店名區塊\n",
        "        name = r.find('p', class_ = 'list-rst__name')\n",
        "        print(name.text)\n",
        "        \n",
        "        #區域\n",
        "        area = r.find('li', class_ = 'list-rst__area')\n",
        "        print(area.text.strip())\n",
        "\n",
        "        #評價\n",
        "        rating = r.find('b', class_ = 'c-rating__val')\n",
        "        print(rating.text)\n",
        "\n",
        "        #價格\n",
        "        prices = r.find_all('span', class_ = 'c-rating__val')\n",
        "        print(prices[0].text)\n",
        "        print(prices[1].text)\n",
        "\n",
        "        print('-' * 30)\n",
        "\n",
        "        # Step2. 將每筆爬到的資料插入字典\n",
        "        table['rating'].append(rating.text)\n",
        "        table['ja'].append(ja.text)\n",
        "        table['en'].append(en.text)"
      ],
      "execution_count": null,
      "outputs": []
    }
  ]
}