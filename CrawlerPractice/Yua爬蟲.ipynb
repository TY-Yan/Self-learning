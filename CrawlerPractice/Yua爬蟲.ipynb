{
  "nbformat": 4,
  "nbformat_minor": 0,
  "metadata": {
    "colab": {
      "name": "Yua爬蟲.ipynb",
      "provenance": [],
      "collapsed_sections": [],
      "mount_file_id": "10PF323KIRHQkT-OIAkd157fw9dL8pY3H",
      "authorship_tag": "ABX9TyNjPzA+KAXdgj8oBUecl+Ic",
      "include_colab_link": true
    },
    "kernelspec": {
      "name": "python3",
      "display_name": "Python 3"
    },
    "language_info": {
      "name": "python"
    },
    "accelerator": "GPU"
  },
  "cells": [
    {
      "cell_type": "markdown",
      "metadata": {
        "id": "view-in-github",
        "colab_type": "text"
      },
      "source": [
        "<a href=\"https://colab.research.google.com/github/TY-Yan/Self-learning/blob/main/CrawlerPractice/Yua%E7%88%AC%E8%9F%B2.ipynb\" target=\"_parent\"><img src=\"https://colab.research.google.com/assets/colab-badge.svg\" alt=\"Open In Colab\"/></a>"
      ]
    },
    {
      "cell_type": "markdown",
      "metadata": {
        "id": "4ZsWnx52C9tV"
      },
      "source": [
        "# 目標網站 -> Yua_Mikami寫真集\n",
        "### 純粹學術研究分享，請勿做營利使用，若有侵權行為請告知，將立即下架\n",
        "\n",
        "####https://telegra.ph/%E3%83%87%E3%82%B8%E3%82%BF%E3%83%AB%E9%99%90%E5%AE%9A%E4%B8%89%E4%B8%8A%E6%82%A0%E4%BA%9CYua-Mikami-%E5%86%99%E7%9C%9F%E9%9B%86%E8%A6%9A%E9%86%9299P-05-27?fbclid=IwAR3Y5bA-TkIq5P_MOfxb6P3rdvD534Nk3038PxRlSn7TGDlc_Ioh5wPIGzY"
      ]
    },
    {
      "cell_type": "code",
      "metadata": {
        "id": "ccqjv1rUGgpJ"
      },
      "source": [
        "from urllib.request import urlopen, urlretrieve\n",
        "import urllib.request as req\n",
        "from bs4 import BeautifulSoup\n",
        "import requests\n",
        "import time\n",
        "import os\n",
        "import json"
      ],
      "execution_count": null,
      "outputs": []
    },
    {
      "cell_type": "code",
      "metadata": {
        "id": "Yt8uOSDcHnMz"
      },
      "source": [
        "# 建立資料夾\n",
        "base = './drive/MyDrive/Yua_Mikami'\n",
        "if not os.path.exists(base):\n",
        "  os.makedirs(base)"
      ],
      "execution_count": null,
      "outputs": []
    },
    {
      "cell_type": "code",
      "metadata": {
        "id": "s8HkWmj45p8Z"
      },
      "source": [
        "# 從原始碼中找出圖片網址連結並一一儲存,共計99張\n",
        "\n",
        "url = 'https://telegra.ph/%E3%83%87%E3%82%B8%E3%82%BF%E3%83%AB%E9%99%90%E5%AE%9A%E4%B8%89%E4%B8%8A%E6%82%A0%E4%BA%9CYua-Mikami-%E5%86%99%E7%9C%9F%E9%9B%86%E8%A6%9A%E9%86%9299P-05-27?fbclid=IwAR3Y5bA-TkIq5P_MOfxb6P3rdvD534Nk3038PxRlSn7TGDlc_Ioh5wPIGzY'\n",
        "response = requests.get(url)\n",
        "html = BeautifulSoup(response.text)\n",
        "results = html.find_all('img')\n",
        "title = 'https://telegra.ph'\n",
        "for i in range(98):\n",
        "  link = results[i].get('src')\n",
        "  urlretrieve(title + link, base + '/' + str(i) + '.jpg')\n",
        "  # time.sleep(1)\n"
      ],
      "execution_count": null,
      "outputs": []
    },
    {
      "cell_type": "code",
      "metadata": {
        "id": "rkxAfDD2L00C"
      },
      "source": [
        "# 用來將JPG檔轉存合併為PDF檔的套件\n",
        "!pip install pymupdf\n",
        "!pip install fitz"
      ],
      "execution_count": null,
      "outputs": []
    },
    {
      "cell_type": "code",
      "metadata": {
        "id": "k2RcGAEPK03S"
      },
      "source": [
        "import glob\n",
        "import fitz\n",
        "\n",
        "img_path = './drive/MyDrive/Yua_Mikami'\n",
        "doc = fitz.open()\n",
        "\n",
        "# 應該使用for img in os.listdir(img_path)\n",
        "# 但因為文件已經命名成0.1.2.3...便直接做迴圈\n",
        "for i in range(99):\n",
        "\timg = str(i) + '.jpg'\n",
        "\timg_file = img_path + '/' + img\n",
        "\timgdoc = fitz.open(img_file)\n",
        "\tpdfbytes = imgdoc.convertToPDF()\n",
        "\tpdf_name = str(i) + '.pdf'\n",
        "\timgpdf = fitz.open(pdf_name, pdfbytes)\n",
        "\tdoc.insertPDF(imgpdf)\n",
        "doc.save('Yua_Mikami_PhotoAlbum.pdf')\n",
        "doc.close()"
      ],
      "execution_count": null,
      "outputs": []
    }
  ]
}