{
  "nbformat": 4,
  "nbformat_minor": 0,
  "metadata": {
    "colab": {
      "name": "PTT表特版照片.ipynb",
      "provenance": [],
      "authorship_tag": "ABX9TyPABtuastpeOIblrVZbLk7V",
      "include_colab_link": true
    },
    "kernelspec": {
      "name": "python3",
      "display_name": "Python 3"
    },
    "language_info": {
      "name": "python"
    }
  },
  "cells": [
    {
      "cell_type": "markdown",
      "metadata": {
        "id": "view-in-github",
        "colab_type": "text"
      },
      "source": [
        "<a href=\"https://colab.research.google.com/github/TY-Yan/Self-learning/blob/main/CrawlerPractice/PTT%E8%A1%A8%E7%89%B9%E7%89%88%E7%85%A7%E7%89%87.ipynb\" target=\"_parent\"><img src=\"https://colab.research.google.com/assets/colab-badge.svg\" alt=\"Open In Colab\"/></a>"
      ]
    },
    {
      "cell_type": "markdown",
      "metadata": {
        "id": "X_60FNTii0bd"
      },
      "source": [
        "##目標網站：https://www.ptt.cc/bbs/Beauty/index.html\n",
        "\n",
        "1.破解18+的限制\n",
        "\n",
        "2.爬取表特版照片\n",
        "\n",
        "3.儲存"
      ]
    },
    {
      "cell_type": "code",
      "metadata": {
        "id": "k-tdaQrNiwee"
      },
      "source": [
        "import requests\n",
        "import os\n",
        "import shutil\n",
        "from bs4 import BeautifulSoup "
      ],
      "execution_count": null,
      "outputs": []
    },
    {
      "cell_type": "code",
      "metadata": {
        "id": "hlcCozy0kgTA"
      },
      "source": [
        "def download_post(url):\n",
        "    #範例設定url為目標網址\n",
        "    #url = 'https://www.ptt.cc/bbs/Beauty/M.1627382221.A.96D.html'\n",
        "\n",
        "    #建立名為PTT的資料夾.底下建立網址前的資料夾\n",
        "    dn = 'ptt/' + url.split('/')[-1]\n",
        "    if not os.path.exists(dn):\n",
        "        os.makedirs(dn)\n",
        "\n",
        "    #方法1:將需新增的Cookie建立字典,放進url中\n",
        "    # headers = {'Cookie':'over18=1'}\n",
        "    # response = requests.get(url, verify = False, headers=headers)\n",
        "\n",
        "    #方法2:函式參數為cookies,放入需新增的Cookie資料\n",
        "    response = requests.get(url, verify = False, cookies={'over18':'1'})\n",
        "\n",
        "    html = BeautifulSoup(response.text)\n",
        "\n",
        "    #建立副檔名格式為圖片的list\n",
        "    reserved = ['jpg', 'jpeg', 'png', 'gif']\n",
        "\n",
        "    #找出所有a標籤的資料\n",
        "    links = html.find_all('a')\n",
        "\n",
        "    for link in links:\n",
        "        #找出a標籤中href裡的網址\n",
        "        href = link['href']\n",
        "        #找出href網址最後的副檔名\n",
        "        sub = href.split('.')[-1]\n",
        "\n",
        "        if sub.lower() in reserved:\n",
        "            # 使用requests函數來抓檔案,stream=True為保持原始檔.verify=False為apple電腦需要\n",
        "            img = requests.get(href, stream=True, verify=False)\n",
        "            #在ptt資料夾>網址資料夾>建立檔案\n",
        "            fn = dn + '/' + href.split('/')[-1]\n",
        "            #開啟檔案\n",
        "            f = open(fn, 'wb')\n",
        "\n",
        "            #一筆一筆資料開啟並寫入\n",
        "            # f.write(img.raw.read())\n",
        "            \n",
        "            #以shutil函數的copyfileobj來快速寫入檔案\n",
        "            shutil.copyfileobj(img.raw, f)\n",
        "            f.close()"
      ],
      "execution_count": null,
      "outputs": []
    }
  ]
}