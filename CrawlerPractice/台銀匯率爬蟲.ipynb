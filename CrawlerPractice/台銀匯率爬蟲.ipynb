{
  "nbformat": 4,
  "nbformat_minor": 0,
  "metadata": {
    "colab": {
      "name": "台銀匯率爬蟲.ipynb",
      "provenance": [],
      "authorship_tag": "ABX9TyM9wvQvHxfCZdAjkNdYVSYs",
      "include_colab_link": true
    },
    "kernelspec": {
      "name": "python3",
      "display_name": "Python 3"
    },
    "language_info": {
      "name": "python"
    }
  },
  "cells": [
    {
      "cell_type": "markdown",
      "metadata": {
        "id": "view-in-github",
        "colab_type": "text"
      },
      "source": [
        "<a href=\"https://colab.research.google.com/github/TY-Yan/Self-learning/blob/main/CrawlerPractice/%E5%8F%B0%E9%8A%80%E5%8C%AF%E7%8E%87%E7%88%AC%E8%9F%B2.ipynb\" target=\"_parent\"><img src=\"https://colab.research.google.com/assets/colab-badge.svg\" alt=\"Open In Colab\"/></a>"
      ]
    },
    {
      "cell_type": "markdown",
      "metadata": {
        "id": "LgtW-mWsgAAR"
      },
      "source": [
        "##目標網站：https://rate.bot.com.tw/xrt?Lang=zh-TW\n",
        "\n",
        "\n",
        "抓匯率資料\n",
        "\n",
        "1.幣別中文名(美金.港幣...)\n",
        "\n",
        "2.幣別代碼(USD.HKD...)\n",
        "\n",
        "3.買入匯率\n",
        "\n",
        "4.賣出匯率\n",
        "\n",
        "5.存成資料夾rate,每個幣別分開存檔(美金.json),內容為上述四個資料"
      ]
    },
    {
      "cell_type": "markdown",
      "metadata": {
        "id": "I5KSvdAjgKb0"
      },
      "source": [
        "自我提示：\n",
        "\n",
        "爬蟲步驟\n",
        "1. Ctrl+U 檢視原始碼\n",
        "\n",
        "2. F12 > Network找答案\n",
        "\n",
        "\n",
        "Tag 名字 <a >\n",
        "\n",
        "Attribute  標籤href=''\n",
        "\n",
        "Content 內容"
      ]
    },
    {
      "cell_type": "code",
      "metadata": {
        "id": "wcPXDzWAgWg-"
      },
      "source": [
        "from urllib.request import urlopen\n",
        "from urllib.error import HTTPError\n",
        "from bs4 import BeautifulSoup\n",
        "import pandas as pd\n",
        "import json"
      ],
      "execution_count": null,
      "outputs": []
    },
    {
      "cell_type": "code",
      "metadata": {
        "id": "UMH9XFTDf4ou"
      },
      "source": [
        "# Step1. 建立空字典,用來裝資料\n",
        "table = {\n",
        "    'name':[],\n",
        "    'type':[],\n",
        "    'buy':[],\n",
        "    'sell':[]\n",
        "}\n",
        "\n",
        "url ='https://rate.bot.com.tw/xrt?Lang=zh-TW'\n",
        "response = urlopen(url)\n",
        "html = BeautifulSoup(response)\n",
        "\n",
        "rows = html.find('table').find('tbody').find_all('tr')\n",
        "\n",
        "for r in rows:\n",
        "    datas = r.find_all('td')\n",
        "    name = datas[0].find('div', class_ = 'visible-phone')\n",
        "    name = name.text.strip()\n",
        "    rname, rtype = name.split(' ')\n",
        "    rtype = rtype[1:-1]\n",
        "    buy = datas[1].text\n",
        "    sell = datas[2].text\n",
        "    print('幣別:',rname, '\\n代碼:', rtype, '\\n買入匯率:', buy, '\\n賣出匯率:', sell)\n",
        "    print('-' * 20)\n",
        "\n",
        "    table['name'].append(rname)\n",
        "    table['type'].append(rtype)\n",
        "    table['buy'].append(buy)\n",
        "    table['sell'].append(sell)\n",
        "\n",
        "# df = pd.DataFrame(table)\n",
        "# df.to_csv('rate.csv', encoding='utf-8', index=False)\n",
        "\n",
        "print(df)\n",
        "\n",
        "\n",
        "\n",
        "\n",
        "\n",
        "'''\n",
        "en = r.find('span',class_='c-rating__val')\n",
        "print(en)\n",
        "# 取內容: .text\n",
        "# 取屬性: 區塊['屬性名']\n",
        "print(en.text)\n",
        "#print(en['href'])\n",
        "\n",
        "try:\n",
        "    xxError狀況\n",
        "except xxError as 錯誤:\n",
        "    xxError解決方案\n",
        "\n",
        "\n",
        "'''"
      ],
      "execution_count": null,
      "outputs": []
    }
  ]
}