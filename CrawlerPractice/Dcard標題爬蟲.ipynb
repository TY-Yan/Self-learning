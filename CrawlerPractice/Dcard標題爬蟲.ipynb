{
  "nbformat": 4,
  "nbformat_minor": 0,
  "metadata": {
    "colab": {
      "name": "Dcard標題爬蟲.ipynb",
      "provenance": [],
      "authorship_tag": "ABX9TyPSfuTvOTPIvSrAEpzYysAl",
      "include_colab_link": true
    },
    "kernelspec": {
      "name": "python3",
      "display_name": "Python 3"
    },
    "language_info": {
      "name": "python"
    }
  },
  "cells": [
    {
      "cell_type": "markdown",
      "metadata": {
        "id": "view-in-github",
        "colab_type": "text"
      },
      "source": [
        "<a href=\"https://colab.research.google.com/github/TY-Yan/Self-learning/blob/main/CrawlerPractice/Dcard%E6%A8%99%E9%A1%8C%E7%88%AC%E8%9F%B2.ipynb\" target=\"_parent\"><img src=\"https://colab.research.google.com/assets/colab-badge.svg\" alt=\"Open In Colab\"/></a>"
      ]
    },
    {
      "cell_type": "markdown",
      "metadata": {
        "id": "7jbUZGCSlsgv"
      },
      "source": [
        "##目標網站：https://www.dcard.tw/f/funny\n",
        "\n",
        "1.爬取Dcard有趣版標題(前30篇)\n",
        "\n",
        "2.需在header添加user-agent"
      ]
    },
    {
      "cell_type": "code",
      "metadata": {
        "id": "OVPMS6d9mMk8"
      },
      "source": [
        "import requests\n",
        "import json\n",
        "from urllib.request import urlopen"
      ],
      "execution_count": 3,
      "outputs": []
    },
    {
      "cell_type": "code",
      "metadata": {
        "id": "xd6N2W4Jleea"
      },
      "source": [
        "url = 'https://www.dcard.tw/service/api/v2/forums/funny/posts?popular=true&limit=30'\n",
        "req = Request(url)\n",
        "req.add_header('user-agent', 'Mozilla/5.0')\n",
        "\n",
        "response = urlopen(req)\n",
        "title = json.load(response)\n",
        "for t in range(30):\n",
        "    print(title[t]['title'])"
      ],
      "execution_count": null,
      "outputs": []
    }
  ]
}