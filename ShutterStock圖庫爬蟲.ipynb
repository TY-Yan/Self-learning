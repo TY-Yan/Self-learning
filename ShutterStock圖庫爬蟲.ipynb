{
  "nbformat": 4,
  "nbformat_minor": 0,
  "metadata": {
    "colab": {
      "name": "ShutterStock圖庫爬蟲.ipynb",
      "provenance": [],
      "authorship_tag": "ABX9TyN6tEEvTjF+Cm/xiGF3NAP/",
      "include_colab_link": true
    },
    "kernelspec": {
      "name": "python3",
      "display_name": "Python 3"
    },
    "language_info": {
      "name": "python"
    }
  },
  "cells": [
    {
      "cell_type": "markdown",
      "metadata": {
        "id": "view-in-github",
        "colab_type": "text"
      },
      "source": [
        "<a href=\"https://colab.research.google.com/github/TY-Yan/Self-learning/blob/main/ShutterStock%E5%9C%96%E5%BA%AB%E7%88%AC%E8%9F%B2.ipynb\" target=\"_parent\"><img src=\"https://colab.research.google.com/assets/colab-badge.svg\" alt=\"Open In Colab\"/></a>"
      ]
    },
    {
      "cell_type": "code",
      "metadata": {
        "id": "ccqjv1rUGgpJ"
      },
      "source": [
        "from urllib.request import urlopen, urlretrieve\n",
        "from bs4 import BeautifulSoup\n",
        "import requests\n",
        "import os"
      ],
      "execution_count": 1,
      "outputs": []
    },
    {
      "cell_type": "code",
      "metadata": {
        "id": "aVXFTO9_YoiJ"
      },
      "source": [
        "def shutterstock(target, page):\n",
        "  # base = \"./drive/MyDrive/shutterstock\" + target\n",
        "  # 此處預設為在colab建立檔名為shutterstock+關鍵字的資料夾並儲存圖片，可自行更改\n",
        "  base = \"./shutterstock_\" + target\n",
        "  if not os.path.exists(base):\n",
        "    os.makedirs(base)\n",
        "  for r in range(int(page)):\n",
        "    url = 'https://www.shutterstock.com/zh-Hant/search/' + target + '?image_type=photo&mreleased=true&gender=female&number_of_people=1&page=' + str(r)\n",
        "    response = urlopen(url)\n",
        "    html = BeautifulSoup(response)\n",
        "    div = html.find_all('div', class_='z_g_d65b1')\n",
        "    for i in div:\n",
        "      img = i.find('img', class_='z_h_9d80b z_h_2f2f0')\n",
        "      for p in range(100):\n",
        "        urlretrieve(img['src'], base + '/' + str(r*100+p) +'.jpg')\n",
        "  return 'File Get !!'"
      ],
      "execution_count": 2,
      "outputs": []
    },
    {
      "cell_type": "code",
      "metadata": {
        "id": "D4cdFByyaQX7"
      },
      "source": [
        "target = input('輸入要找的關鍵字,可用+號作為關鍵字之間的分隔符號：\\n例如：sad+woman ')\n",
        "page = input('輸入要搜尋幾頁:')\n",
        "shutterstock(target, page)"
      ],
      "execution_count": null,
      "outputs": []
    }
  ]
}