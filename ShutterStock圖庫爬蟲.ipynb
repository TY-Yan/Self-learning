{
  "nbformat": 4,
  "nbformat_minor": 0,
  "metadata": {
    "colab": {
      "name": "ShutterStock圖庫爬蟲.ipynb",
      "provenance": [],
      "mount_file_id": "1rnfintKWaloi6QkBaKPwBZpKo5MgWoQ7",
      "authorship_tag": "ABX9TyMKc3NxYhJytCyBV/Iqw/BF",
      "include_colab_link": true
    },
    "kernelspec": {
      "name": "python3",
      "display_name": "Python 3"
    },
    "language_info": {
      "name": "python"
    }
  },
  "cells": [
    {
      "cell_type": "markdown",
      "metadata": {
        "id": "view-in-github",
        "colab_type": "text"
      },
      "source": [
        "<a href=\"https://colab.research.google.com/github/TY-Yan/Self-learning/blob/main/ShutterStock%E5%9C%96%E5%BA%AB%E7%88%AC%E8%9F%B2.ipynb\" target=\"_parent\"><img src=\"https://colab.research.google.com/assets/colab-badge.svg\" alt=\"Open In Colab\"/></a>"
      ]
    },
    {
      "cell_type": "code",
      "metadata": {
        "id": "ccqjv1rUGgpJ"
      },
      "source": [
        "from urllib.request import urlopen, urlretrieve\n",
        "from bs4 import BeautifulSoup\n",
        "import requests\n",
        "import time\n",
        "import os"
      ],
      "execution_count": 1,
      "outputs": []
    },
    {
      "cell_type": "code",
      "metadata": {
        "id": "b2WoWq3V0YpQ"
      },
      "source": [
        "# 目標網站 -> ShutterStock\n",
        "#https://www.shutterstock.com/zh-Hant/\n",
        "def shutterstock(target, page):\n",
        "  file_name = target.replace('+','_')\n",
        "  # base = \"./drive/MyDrive/shutterstock\" + file_name\n",
        "  # 此處預設為在colab建立檔名為shutterstock+關鍵字的資料夾並儲存圖片，可自行更改\n",
        "  base = \"./shutterstock_\" + file_name\n",
        "  if not os.path.exists(base):\n",
        "    os.makedirs(base)\n",
        "  for p in range(1, int(page)+1):\n",
        "    url = 'https://www.shutterstock.com/zh-Hant/search/' + target + '?image_type=photo&mreleased=true&gender=female&number_of_people=1&page=' + str(p)\n",
        "    response = urlopen(url)\n",
        "    html = BeautifulSoup(response)\n",
        "    div = html.find_all('img', class_=\"z_h_9d80b z_h_2f2f0\")\n",
        "    for i in range(20):\n",
        "      urlretrieve(div[p]['src'], base + '/' + str((p-1)*20+i) +'.jpg')\n",
        "      time.sleep(1)\n",
        "  return 'File Get !!'"
      ],
      "execution_count": null,
      "outputs": []
    },
    {
      "cell_type": "code",
      "metadata": {
        "id": "D4cdFByyaQX7"
      },
      "source": [
        "target = input('輸入要找的關鍵字,可用+號作為關鍵字之間的分隔符號：\\n例如：sad+woman ')\n",
        "page = input('輸入要搜尋幾頁:')\n",
        "shutterstock(target, page)"
      ],
      "execution_count": null,
      "outputs": []
    }
  ]
}