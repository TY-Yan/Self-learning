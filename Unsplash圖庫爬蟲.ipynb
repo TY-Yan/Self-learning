{
  "nbformat": 4,
  "nbformat_minor": 0,
  "metadata": {
    "colab": {
      "name": "Unsplash圖庫爬蟲.ipynb",
      "provenance": [],
      "mount_file_id": "1rnfintKWaloi6QkBaKPwBZpKo5MgWoQ7",
      "authorship_tag": "ABX9TyPAlBpgOreGyTatAVQw9bOG",
      "include_colab_link": true
    },
    "kernelspec": {
      "name": "python3",
      "display_name": "Python 3"
    },
    "language_info": {
      "name": "python"
    }
  },
  "cells": [
    {
      "cell_type": "markdown",
      "metadata": {
        "id": "view-in-github",
        "colab_type": "text"
      },
      "source": [
        "<a href=\"https://colab.research.google.com/github/TY-Yan/Self-learning/blob/main/Unsplash%E5%9C%96%E5%BA%AB%E7%88%AC%E8%9F%B2.ipynb\" target=\"_parent\"><img src=\"https://colab.research.google.com/assets/colab-badge.svg\" alt=\"Open In Colab\"/></a>"
      ]
    },
    {
      "cell_type": "code",
      "metadata": {
        "id": "ccqjv1rUGgpJ"
      },
      "source": [
        "from urllib.request import urlopen, urlretrieve\n",
        "import requests\n",
        "import time\n",
        "import os\n",
        "import json"
      ],
      "execution_count": 1,
      "outputs": []
    },
    {
      "cell_type": "code",
      "metadata": {
        "id": "W3nquhSmjF3G"
      },
      "source": [
        "def unsplash(target, page):\n",
        "  target = target.replace('+', '%20')\n",
        "  file_name = target.replace('%20', '_')\n",
        "  # base = \"./drive/MyDrive/shutterstock\" + file_name\n",
        "  # 此處預設為在colab建立檔名為unsplash+關鍵字的資料夾並儲存圖片，可自行更改\n",
        "  base = \"./unsplash_\" + file_name\n",
        "  if not os.path.exists(base):\n",
        "    os.makedirs(base)\n",
        "  for p in range(1,int(page)+1):\n",
        "    url = 'https://unsplash.com/napi/search/photos?query=' + target + 'n&per_page=20&page=' + str(p) + '&xp='\n",
        "    response = requests.get(url)\n",
        "    html = json.loads(response.text)\n",
        "    for i in range(20):\n",
        "      id = html['results'][i]['id']\n",
        "      link = 'https://unsplash.com/photos/'+id+'/download'\n",
        "      urlretrieve(link, base + '/' + str((p-1)*20+i) +'.jpg')\n",
        "      time.sleep(1)\n",
        "  return 'File Get !!'"
      ],
      "execution_count": 4,
      "outputs": []
    },
    {
      "cell_type": "code",
      "metadata": {
        "id": "D4cdFByyaQX7"
      },
      "source": [
        "target = input('輸入要找的關鍵字,用+號作為關鍵字之間的分隔符號：\\n例如：sad+woman ')\n",
        "page = input('輸入要搜尋幾頁:')\n",
        "unsplash(target, page)"
      ],
      "execution_count": null,
      "outputs": []
    },
    {
      "cell_type": "code",
      "metadata": {
        "id": "ZmYTtKAF4mrQ"
      },
      "source": [
        "# 學安的爬蟲程式碼\n",
        "\n",
        "# input_image = input(\"key ward:\")\n",
        "# response = requests.get(f\"https://unsplash.com/s/photos/{input_image}\")\n",
        "# soup = BeautifulSoup(response.text, \"lxml\")\n",
        "# results = soup.find_all(\"img\", {\"class\": \"_2UpQX\"})\n",
        "\n",
        "\n",
        "# image_links = [result.get(\"src\") for result in results]  # 取得圖片來源連結\n",
        " \n",
        "# for index, link in enumerate(image_links):\n",
        " \n",
        "#     if not os.path.exists(\"images\"):\n",
        "#         os.mkdir(\"images\")  # 建立資料夾\n",
        "\n",
        "#     img = requests.get(link)  # 下載圖片\n",
        " \n",
        "#     with open(\"images\\\\\" + input_image + str(index+1) + \".jpg\", \"wb\") as file:  # 開啟資料夾及命名圖片檔\n",
        "#         file.write(img.content)  # 寫入圖片的二進位碼"
      ],
      "execution_count": null,
      "outputs": []
    }
  ]
}