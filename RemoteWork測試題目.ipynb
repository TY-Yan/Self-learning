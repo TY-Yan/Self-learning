{
  "nbformat": 4,
  "nbformat_minor": 0,
  "metadata": {
    "colab": {
      "name": "RemoteWork測試題目.ipynb",
      "provenance": [],
      "collapsed_sections": [],
      "authorship_tag": "ABX9TyP5u3t41lAB88SSLakEYOzN",
      "include_colab_link": true
    },
    "kernelspec": {
      "name": "python3",
      "display_name": "Python 3"
    },
    "language_info": {
      "name": "python"
    }
  },
  "cells": [
    {
      "cell_type": "markdown",
      "metadata": {
        "id": "view-in-github",
        "colab_type": "text"
      },
      "source": [
        "<a href=\"https://colab.research.google.com/github/TY-Yan/Self-learning/blob/main/RemoteWork%E6%B8%AC%E8%A9%A6%E9%A1%8C%E7%9B%AE.ipynb\" target=\"_parent\"><img src=\"https://colab.research.google.com/assets/colab-badge.svg\" alt=\"Open In Colab\"/></a>"
      ]
    },
    {
      "cell_type": "markdown",
      "metadata": {
        "id": "LJTNcGaTgUYw"
      },
      "source": [
        "##歷史股價爬蟲\n",
        "\n",
        "1.目標頁面：https://cn.investing.com/equities/apple-computer-inc-historical-data\n",
        "\n",
        "2.製作該頁的歷史股價爬蟲\n",
        "\n",
        "3.輸出的Function要能夠選擇抓取的時間範圍\n",
        "\n",
        "4.輸出請用JSON_ARRAY"
      ]
    },
    {
      "cell_type": "code",
      "metadata": {
        "id": "-E0z4YFV52XF"
      },
      "source": [
        "from urllib.request import urlopen\n",
        "import requests\n",
        "from bs4 import BeautifulSoup\n",
        "import pandas as pd\n",
        "import json"
      ],
      "execution_count": 9,
      "outputs": []
    },
    {
      "cell_type": "code",
      "metadata": {
        "id": "p3MVxa-EYmoB"
      },
      "source": [
        "# 目標頁面之日期、收盤股價\n",
        "\n",
        "table = {}\n",
        "url ='https://cn.investing.com/equities/apple-computer-inc-historical-data'\n",
        "headers = {\n",
        "    'user-agent': 'Mozilla/5.0 (Windows NT 6.1; Win64; x64) AppleWebKit/537.36 (KHTML, like Gecko) Chrome/91.0.4472.164 Safari/537.36'\n",
        "}\n",
        "response = requests.get(url, verify=False, headers=headers)\n",
        "html = BeautifulSoup(response.text)\n",
        "data = html.find('table', class_=\"genTbl closedTbl historicalTbl\").find('tbody').find_all('tr')\n",
        "for i in range(len(data)):\n",
        "  stockInformation = data[i].find_all('td')\n",
        "  date = stockInformation[0].text\n",
        "  price = stockInformation[1].text\n",
        "  new = {date:price}\n",
        "  table.update(new)\n",
        "\n",
        "# print(table)"
      ],
      "execution_count": null,
      "outputs": []
    },
    {
      "cell_type": "code",
      "metadata": {
        "id": "yvD6_GGEmVlF"
      },
      "source": [
        "# 搜尋指定單一日期收盤股價\n",
        "def searchSingleDate():\n",
        "  print('輸入格式範例:2021年7月23日')\n",
        "\n",
        "  reply = input('請輸入搜尋日期:')\n",
        "  return reply, table[reply]\n",
        "\n",
        "# searchSingleDate()"
      ],
      "execution_count": null,
      "outputs": []
    },
    {
      "cell_type": "code",
      "metadata": {
        "id": "SUxAdMyYhzDn"
      },
      "source": [
        "# 搜尋複數日期收盤股價\n",
        "def serchRangeDate():\n",
        "  answer = {}\n",
        "  print('輸入格式範例:2021年7月23日')\n",
        "  reply = input('請輸入搜尋日期')\n",
        "  while True:\n",
        "    answer.update({reply:table[reply]})\n",
        "    reply = input('請再輸入其他日期,若無需再搜尋,請輸入「完畢」')\n",
        "    if reply == '完畢':\n",
        "      break\n",
        "  return answer\n",
        "\n",
        "# serchRangeDate()"
      ],
      "execution_count": null,
      "outputs": []
    },
    {
      "cell_type": "code",
      "metadata": {
        "id": "emUo7KdtCWlY"
      },
      "source": [
        "# 目標頁面裡所有股價相關資料\n",
        "\n",
        "database = {\n",
        "    'date':[],\n",
        "    'price':[],\n",
        "    'open':[],\n",
        "    'high':[],\n",
        "    'low':[],\n",
        "    'vol':[],\n",
        "    'change':[]\n",
        "}\n",
        "url ='https://cn.investing.com/equities/apple-computer-inc-historical-data'\n",
        "headers = {\n",
        "    'user-agent': 'Mozilla/5.0 (Windows NT 6.1; Win64; x64) AppleWebKit/537.36 (KHTML, like Gecko) Chrome/91.0.4472.164 Safari/537.36'\n",
        "}\n",
        "response = requests.get(url, verify=False, headers=headers)\n",
        "html = BeautifulSoup(response.text)\n",
        "data = html.find('table', class_=\"genTbl closedTbl historicalTbl\").find('tbody').find_all('tr')\n",
        "for i in range(len(data)):\n",
        "  stockInformation = data[i].find_all('td')\n",
        "  date = stockInformation[0].text\n",
        "  price = stockInformation[1].text\n",
        "  open = stockInformation[2].text\n",
        "  high = stockInformation[3].text\n",
        "  low = stockInformation[4].text\n",
        "  vol = stockInformation[5].text\n",
        "  change = stockInformation[6].text\n",
        "  database['date'].append(date)\n",
        "  database['price'].append(price)\n",
        "  database['open'].append(open)\n",
        "  database['high'].append(high)\n",
        "  database['low'].append(low)\n",
        "  database['vol'].append(vol)\n",
        "  database['change'].append(change)\n",
        "  \n",
        "# print(database)"
      ],
      "execution_count": null,
      "outputs": []
    }
  ]
}